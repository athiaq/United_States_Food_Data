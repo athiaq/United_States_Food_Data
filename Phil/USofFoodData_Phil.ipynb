{
 "cells": [
  {
   "cell_type": "code",
   "execution_count": 64,
   "id": "3ebcd7e7",
   "metadata": {},
   "outputs": [
    {
     "name": "stdout",
     "output_type": "stream",
     "text": [
      "Requirement already satisfied: openpyxl in /Users/oaklandsveryown/opt/anaconda3/envs/PythonData/lib/python3.7/site-packages (3.0.10)\r\n",
      "Requirement already satisfied: et-xmlfile in /Users/oaklandsveryown/opt/anaconda3/envs/PythonData/lib/python3.7/site-packages (from openpyxl) (1.1.0)\r\n"
     ]
    }
   ],
   "source": [
    "!pip install openpyxl\n",
    "\n",
    "import pandas as pd\n",
    "import matplotlib.pyplot as plt\n",
    "import scipy.stats as st "
   ]
  },
  {
   "cell_type": "code",
   "execution_count": 39,
   "id": "55792bee",
   "metadata": {},
   "outputs": [
    {
     "data": {
      "text/html": [
       "<div>\n",
       "<style scoped>\n",
       "    .dataframe tbody tr th:only-of-type {\n",
       "        vertical-align: middle;\n",
       "    }\n",
       "\n",
       "    .dataframe tbody tr th {\n",
       "        vertical-align: top;\n",
       "    }\n",
       "\n",
       "    .dataframe thead th {\n",
       "        text-align: right;\n",
       "    }\n",
       "</style>\n",
       "<table border=\"1\" class=\"dataframe\">\n",
       "  <thead>\n",
       "    <tr style=\"text-align: right;\">\n",
       "      <th></th>\n",
       "      <th>Date</th>\n",
       "      <th>State</th>\n",
       "      <th>Category</th>\n",
       "      <th>Dollars</th>\n",
       "      <th>Unit sales</th>\n",
       "      <th>Volume sales</th>\n",
       "      <th>Dollars last year</th>\n",
       "      <th>Unit sales last year</th>\n",
       "      <th>Volume sales last year</th>\n",
       "      <th>Dollars 3 years ago</th>\n",
       "      <th>Unit sales 3 years ago</th>\n",
       "      <th>Volume sales 3 years ago</th>\n",
       "      <th>Percent change dollars 1 year</th>\n",
       "      <th>Percent change units 1 year</th>\n",
       "      <th>Percent change volume 1 year</th>\n",
       "      <th>Percent change dollars 3 years</th>\n",
       "      <th>Percent change units 3 years</th>\n",
       "      <th>Percent change volume 3 years</th>\n",
       "    </tr>\n",
       "  </thead>\n",
       "  <tbody>\n",
       "    <tr>\n",
       "      <th>0</th>\n",
       "      <td>2019-10-06</td>\n",
       "      <td>Alabama</td>\n",
       "      <td>Alcohol</td>\n",
       "      <td>23580628.0</td>\n",
       "      <td>2969760.0</td>\n",
       "      <td>836512.0</td>\n",
       "      <td>22435659.0</td>\n",
       "      <td>2976745.0</td>\n",
       "      <td>814795.0</td>\n",
       "      <td>NaN</td>\n",
       "      <td>NaN</td>\n",
       "      <td>NaN</td>\n",
       "      <td>5.1</td>\n",
       "      <td>-0.2</td>\n",
       "      <td>2.7</td>\n",
       "      <td>NaN</td>\n",
       "      <td>NaN</td>\n",
       "      <td>NaN</td>\n",
       "    </tr>\n",
       "    <tr>\n",
       "      <th>1</th>\n",
       "      <td>2019-10-13</td>\n",
       "      <td>Alabama</td>\n",
       "      <td>Alcohol</td>\n",
       "      <td>23191408.0</td>\n",
       "      <td>2891303.0</td>\n",
       "      <td>828622.0</td>\n",
       "      <td>23309843.0</td>\n",
       "      <td>2977404.0</td>\n",
       "      <td>854999.0</td>\n",
       "      <td>NaN</td>\n",
       "      <td>NaN</td>\n",
       "      <td>NaN</td>\n",
       "      <td>-0.5</td>\n",
       "      <td>-2.9</td>\n",
       "      <td>-3.1</td>\n",
       "      <td>NaN</td>\n",
       "      <td>NaN</td>\n",
       "      <td>NaN</td>\n",
       "    </tr>\n",
       "    <tr>\n",
       "      <th>2</th>\n",
       "      <td>2019-10-20</td>\n",
       "      <td>Alabama</td>\n",
       "      <td>Alcohol</td>\n",
       "      <td>21743590.0</td>\n",
       "      <td>2727065.0</td>\n",
       "      <td>761632.0</td>\n",
       "      <td>21063269.0</td>\n",
       "      <td>2744731.0</td>\n",
       "      <td>765890.0</td>\n",
       "      <td>NaN</td>\n",
       "      <td>NaN</td>\n",
       "      <td>NaN</td>\n",
       "      <td>3.2</td>\n",
       "      <td>-0.6</td>\n",
       "      <td>-0.6</td>\n",
       "      <td>NaN</td>\n",
       "      <td>NaN</td>\n",
       "      <td>NaN</td>\n",
       "    </tr>\n",
       "    <tr>\n",
       "      <th>3</th>\n",
       "      <td>2019-10-27</td>\n",
       "      <td>Alabama</td>\n",
       "      <td>Alcohol</td>\n",
       "      <td>21929512.0</td>\n",
       "      <td>2761075.0</td>\n",
       "      <td>767176.0</td>\n",
       "      <td>20183470.0</td>\n",
       "      <td>2650938.0</td>\n",
       "      <td>713505.0</td>\n",
       "      <td>NaN</td>\n",
       "      <td>NaN</td>\n",
       "      <td>NaN</td>\n",
       "      <td>8.7</td>\n",
       "      <td>4.2</td>\n",
       "      <td>7.5</td>\n",
       "      <td>NaN</td>\n",
       "      <td>NaN</td>\n",
       "      <td>NaN</td>\n",
       "    </tr>\n",
       "    <tr>\n",
       "      <th>4</th>\n",
       "      <td>2019-11-03</td>\n",
       "      <td>Alabama</td>\n",
       "      <td>Alcohol</td>\n",
       "      <td>23150890.0</td>\n",
       "      <td>2868207.0</td>\n",
       "      <td>813904.0</td>\n",
       "      <td>22560881.0</td>\n",
       "      <td>2883969.0</td>\n",
       "      <td>801436.0</td>\n",
       "      <td>NaN</td>\n",
       "      <td>NaN</td>\n",
       "      <td>NaN</td>\n",
       "      <td>2.6</td>\n",
       "      <td>-0.5</td>\n",
       "      <td>1.6</td>\n",
       "      <td>NaN</td>\n",
       "      <td>NaN</td>\n",
       "      <td>NaN</td>\n",
       "    </tr>\n",
       "  </tbody>\n",
       "</table>\n",
       "</div>"
      ],
      "text/plain": [
       "         Date    State Category     Dollars  Unit sales  Volume sales  \\\n",
       "0  2019-10-06  Alabama  Alcohol  23580628.0   2969760.0      836512.0   \n",
       "1  2019-10-13  Alabama  Alcohol  23191408.0   2891303.0      828622.0   \n",
       "2  2019-10-20  Alabama  Alcohol  21743590.0   2727065.0      761632.0   \n",
       "3  2019-10-27  Alabama  Alcohol  21929512.0   2761075.0      767176.0   \n",
       "4  2019-11-03  Alabama  Alcohol  23150890.0   2868207.0      813904.0   \n",
       "\n",
       "   Dollars last year  Unit sales last year  Volume sales last year  \\\n",
       "0         22435659.0             2976745.0                814795.0   \n",
       "1         23309843.0             2977404.0                854999.0   \n",
       "2         21063269.0             2744731.0                765890.0   \n",
       "3         20183470.0             2650938.0                713505.0   \n",
       "4         22560881.0             2883969.0                801436.0   \n",
       "\n",
       "   Dollars 3 years ago  Unit sales 3 years ago  Volume sales 3 years ago  \\\n",
       "0                  NaN                     NaN                       NaN   \n",
       "1                  NaN                     NaN                       NaN   \n",
       "2                  NaN                     NaN                       NaN   \n",
       "3                  NaN                     NaN                       NaN   \n",
       "4                  NaN                     NaN                       NaN   \n",
       "\n",
       "   Percent change dollars 1 year  Percent change units 1 year  \\\n",
       "0                            5.1                         -0.2   \n",
       "1                           -0.5                         -2.9   \n",
       "2                            3.2                         -0.6   \n",
       "3                            8.7                          4.2   \n",
       "4                            2.6                         -0.5   \n",
       "\n",
       "   Percent change volume 1 year  Percent change dollars 3 years  \\\n",
       "0                           2.7                             NaN   \n",
       "1                          -3.1                             NaN   \n",
       "2                          -0.6                             NaN   \n",
       "3                           7.5                             NaN   \n",
       "4                           1.6                             NaN   \n",
       "\n",
       "   Percent change units 3 years  Percent change volume 3 years  \n",
       "0                           NaN                            NaN  \n",
       "1                           NaN                            NaN  \n",
       "2                           NaN                            NaN  \n",
       "3                           NaN                            NaN  \n",
       "4                           NaN                            NaN  "
      ]
     },
     "execution_count": 39,
     "metadata": {},
     "output_type": "execute_result"
    }
   ],
   "source": [
    "state_df = pd.read_excel(\"../Datasets/StateAndCategory.xlsx\", sheet_name=0, header=1)\n",
    "\n",
    "state_df.head()"
   ]
  },
  {
   "cell_type": "markdown",
   "id": "2ccc29c1",
   "metadata": {},
   "source": [
    "Which state eats the healthiest?\n",
    "\n",
    "First, let's consider what it means to eat healthy, and what this dataset can tell us about that by looking at the categories."
   ]
  },
  {
   "cell_type": "code",
   "execution_count": 56,
   "id": "a79022c5",
   "metadata": {},
   "outputs": [
    {
     "data": {
      "text/plain": [
       "array(['Alcohol', 'Beverages', 'Commercially prepared items', 'Dairy',\n",
       "       'Fats and oils', 'Fruits', 'Grains', 'Meats, eggs, and nuts',\n",
       "       'Other', 'Sugar and sweeteners', 'Vegetables', nan], dtype=object)"
      ]
     },
     "execution_count": 56,
     "metadata": {},
     "output_type": "execute_result"
    }
   ],
   "source": [
    "state_df[\"Category\"].unique()"
   ]
  },
  {
   "cell_type": "markdown",
   "id": "c2d80d35",
   "metadata": {},
   "source": [
    "We know that some of these things are definitely unhealthy: Alcohol and Sugar and Sweeteners. Let's see which states buy the most of those. We will look at volumes instead of dollar amounts since prices can vary a lot from state to state."
   ]
  },
  {
   "cell_type": "code",
   "execution_count": 72,
   "id": "5e815fd9",
   "metadata": {},
   "outputs": [
    {
     "data": {
      "text/plain": [
       "Text(0, 0.5, 'Alcohol Sales by Volume')"
      ]
     },
     "execution_count": 72,
     "metadata": {},
     "output_type": "execute_result"
    },
    {
     "data": {
      "image/png": "[encoded data removed]",
      "text/plain": [
       "<Figure size 432x288 with 1 Axes>"
      ]
     },
     "metadata": {
      "needs_background": "light"
     },
     "output_type": "display_data"
    }
   ],
   "source": [
    "alcohol = state_df.loc[state_df[\"Category\"] == \"Alcohol\"]\n",
    "alcohol_by_state = alcohol.groupby(alcohol[\"State\"]).sum()[\"Volume sales\"]\n",
    "alcohol_by_state = alcohol_by_state.sort_values(ascending=False)\n",
    "\n",
    "alcohol_by_state.plot.bar()\n",
    "\n",
    "plt.title(\"Alcohol Sales by Volume per State\")\n",
    "plt.xlabel(\"State\")\n",
    "plt.ylabel(\"Alcohol Sales by Volume\")"
   ]
  },
  {
   "cell_type": "markdown",
   "id": "9f591c22",
   "metadata": {},
   "source": [
    "That is interesting - at first glance, it looks a lot like the states are ranked by population, but they aren't. Texas managed to take the top spot. Hats off!"
   ]
  },
  {
   "cell_type": "code",
   "execution_count": 69,
   "id": "d4ed7658",
   "metadata": {
    "scrolled": true
   },
   "outputs": [
    {
     "data": {
      "text/plain": [
       "Text(0, 0.5, 'Sugar and other sweeteners sales by Volume')"
      ]
     },
     "execution_count": 69,
     "metadata": {},
     "output_type": "execute_result"
    },
    {
     "data": {
      "image/png": "[encoded data removed]",
      "text/plain": [
       "<Figure size 432x288 with 1 Axes>"
      ]
     },
     "metadata": {
      "needs_background": "light"
     },
     "output_type": "display_data"
    }
   ],
   "source": [
    "sugar = state_df.loc[state_df[\"Category\"] == \"Sugar and sweeteners\"]\n",
    "sugar_by_state = sugar.groupby(sugar[\"State\"]).sum()[\"Volume sales\"]\n",
    "sugar_by_state = sugar_by_state.sort_values(ascending=False)\n",
    "\n",
    "sugar_by_state.plot.bar()\n",
    "\n",
    "plt.title(\"Sugar Sales by Volume per State\")\n",
    "plt.xlabel(\"State\")\n",
    "plt.ylabel(\"Sugar and other sweeteners sales by Volume\")"
   ]
  },
  {
   "cell_type": "markdown",
   "id": "0ca2c421",
   "metadata": {},
   "source": [
    "This time, we see a couple more surprises - both Texas and Florida are above the most populous state, California. And, Georgia and North Carolina appear before New York. They like it sweet in the south!\n",
    "\n",
    "Even though we saw some unexpected results in the raw volume data, we should try to control a bit for population size as we compare the states.\n",
    "\n",
    "Before we get into our original question - which state eats the healthiest? - let's try to pull in some data that will help us look at per capita spending."
   ]
  },
  {
   "cell_type": "code",
   "execution_count": null,
   "id": "597a650b",
   "metadata": {},
   "outputs": [],
   "source": [
    "#run this \n",
    "\n",
    "#     vegetables = state_df.loc[state_df[\"Category\"] == \"Vegetables\"]\n",
    "#     vegetables_by_state = vegetables.groupby(vegetables[\"State\"]).sum()[\"Volume sales\"]\n",
    "#     vegetables_by_state = vegetables_by_state.sort_values(ascending=False)"
   ]
  },
  {
   "cell_type": "code",
   "execution_count": null,
   "id": "eaa556b0",
   "metadata": {},
   "outputs": [],
   "source": [
    "#find an API and pull in state population with a for loop"
   ]
  },
  {
   "cell_type": "code",
   "execution_count": null,
   "id": "29b33f9d",
   "metadata": {},
   "outputs": [],
   "source": [
    "#do statistical analysis of this list - measures of central tendency, etc."
   ]
  },
  {
   "cell_type": "code",
   "execution_count": null,
   "id": "228a5cc8",
   "metadata": {},
   "outputs": [],
   "source": [
    "#call geoapify API to get lat and lon for each state"
   ]
  },
  {
   "cell_type": "code",
   "execution_count": null,
   "id": "54ace9d7",
   "metadata": {},
   "outputs": [],
   "source": [
    "#make a map"
   ]
  }
 ],
 "metadata": {
  "kernelspec": {
   "display_name": "Python [conda env:PythonData] *",
   "language": "python",
   "name": "conda-env-PythonData-py"
  },
  "language_info": {
   "codemirror_mode": {
    "name": "ipython",
    "version": 3
   },
   "file_extension": ".py",
   "mimetype": "text/x-python",
   "name": "python",
   "nbconvert_exporter": "python",
   "pygments_lexer": "ipython3",
   "version": "3.7.15"
  }
 },
 "nbformat": 4,
 "nbformat_minor": 5
}
