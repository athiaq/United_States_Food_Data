{
 "cells": [
  {
   "cell_type": "code",
   "execution_count": 18,
   "id": "3ebcd7e7",
   "metadata": {},
   "outputs": [
    {
     "name": "stdout",
     "output_type": "stream",
     "text": [
      "Requirement already satisfied: openpyxl in /Users/oaklandsveryown/opt/anaconda3/envs/PythonData/lib/python3.7/site-packages (3.0.10)\r\n",
      "Requirement already satisfied: et-xmlfile in /Users/oaklandsveryown/opt/anaconda3/envs/PythonData/lib/python3.7/site-packages (from openpyxl) (1.1.0)\r\n"
     ]
    }
   ],
   "source": [
    "!pip install openpyxl\n",
    "\n",
    "import pandas as pd\n",
    "import matplotlib.pyplot as plt\n",
    "import scipy.stats as st \n",
    "from config import census_api_key\n",
    "import json\n",
    "import requests\n",
    "import pprint"
   ]
  },
  {
   "cell_type": "code",
   "execution_count": 33,
   "id": "55792bee",
   "metadata": {},
   "outputs": [
    {
     "data": {
      "text/html": [
       "<div>\n",
       "<style scoped>\n",
       "    .dataframe tbody tr th:only-of-type {\n",
       "        vertical-align: middle;\n",
       "    }\n",
       "\n",
       "    .dataframe tbody tr th {\n",
       "        vertical-align: top;\n",
       "    }\n",
       "\n",
       "    .dataframe thead th {\n",
       "        text-align: right;\n",
       "    }\n",
       "</style>\n",
       "<table border=\"1\" class=\"dataframe\">\n",
       "  <thead>\n",
       "    <tr style=\"text-align: right;\">\n",
       "      <th></th>\n",
       "      <th>Date</th>\n",
       "      <th>State</th>\n",
       "      <th>Category</th>\n",
       "      <th>Dollars</th>\n",
       "      <th>Unit sales</th>\n",
       "      <th>Volume sales</th>\n",
       "      <th>Dollars last year</th>\n",
       "      <th>Unit sales last year</th>\n",
       "      <th>Volume sales last year</th>\n",
       "      <th>Dollars 3 years ago</th>\n",
       "      <th>Unit sales 3 years ago</th>\n",
       "      <th>Volume sales 3 years ago</th>\n",
       "      <th>Percent change dollars 1 year</th>\n",
       "      <th>Percent change units 1 year</th>\n",
       "      <th>Percent change volume 1 year</th>\n",
       "      <th>Percent change dollars 3 years</th>\n",
       "      <th>Percent change units 3 years</th>\n",
       "      <th>Percent change volume 3 years</th>\n",
       "    </tr>\n",
       "  </thead>\n",
       "  <tbody>\n",
       "    <tr>\n",
       "      <th>104</th>\n",
       "      <td>2021-10-03</td>\n",
       "      <td>Alabama</td>\n",
       "      <td>Alcohol</td>\n",
       "      <td>25122525.0</td>\n",
       "      <td>2890663.0</td>\n",
       "      <td>791668.0</td>\n",
       "      <td>26233675.0</td>\n",
       "      <td>3048993.0</td>\n",
       "      <td>863475.0</td>\n",
       "      <td>22435659.0</td>\n",
       "      <td>2976745.0</td>\n",
       "      <td>814795.0</td>\n",
       "      <td>-4.2</td>\n",
       "      <td>-5.2</td>\n",
       "      <td>-8.3</td>\n",
       "      <td>12.0</td>\n",
       "      <td>-2.9</td>\n",
       "      <td>-2.8</td>\n",
       "    </tr>\n",
       "    <tr>\n",
       "      <th>105</th>\n",
       "      <td>2021-10-10</td>\n",
       "      <td>Alabama</td>\n",
       "      <td>Alcohol</td>\n",
       "      <td>25482173.0</td>\n",
       "      <td>2893769.0</td>\n",
       "      <td>806014.0</td>\n",
       "      <td>25100287.0</td>\n",
       "      <td>2959385.0</td>\n",
       "      <td>832191.0</td>\n",
       "      <td>23309843.0</td>\n",
       "      <td>2977404.0</td>\n",
       "      <td>854999.0</td>\n",
       "      <td>1.5</td>\n",
       "      <td>-2.2</td>\n",
       "      <td>-3.1</td>\n",
       "      <td>9.3</td>\n",
       "      <td>-2.8</td>\n",
       "      <td>-5.7</td>\n",
       "    </tr>\n",
       "    <tr>\n",
       "      <th>106</th>\n",
       "      <td>2021-10-17</td>\n",
       "      <td>Alabama</td>\n",
       "      <td>Alcohol</td>\n",
       "      <td>25112476.0</td>\n",
       "      <td>2889843.0</td>\n",
       "      <td>793997.0</td>\n",
       "      <td>25267347.0</td>\n",
       "      <td>2977838.0</td>\n",
       "      <td>835216.0</td>\n",
       "      <td>21063269.0</td>\n",
       "      <td>2744731.0</td>\n",
       "      <td>765890.0</td>\n",
       "      <td>-0.6</td>\n",
       "      <td>-3.0</td>\n",
       "      <td>-4.9</td>\n",
       "      <td>19.2</td>\n",
       "      <td>5.3</td>\n",
       "      <td>3.7</td>\n",
       "    </tr>\n",
       "    <tr>\n",
       "      <th>107</th>\n",
       "      <td>2021-10-24</td>\n",
       "      <td>Alabama</td>\n",
       "      <td>Alcohol</td>\n",
       "      <td>24352424.0</td>\n",
       "      <td>2802999.0</td>\n",
       "      <td>768177.0</td>\n",
       "      <td>24786852.0</td>\n",
       "      <td>2912169.0</td>\n",
       "      <td>815074.0</td>\n",
       "      <td>20183470.0</td>\n",
       "      <td>2650938.0</td>\n",
       "      <td>713505.0</td>\n",
       "      <td>-1.8</td>\n",
       "      <td>-3.7</td>\n",
       "      <td>-5.8</td>\n",
       "      <td>20.7</td>\n",
       "      <td>5.7</td>\n",
       "      <td>7.7</td>\n",
       "    </tr>\n",
       "    <tr>\n",
       "      <th>108</th>\n",
       "      <td>2021-10-31</td>\n",
       "      <td>Alabama</td>\n",
       "      <td>Alcohol</td>\n",
       "      <td>24521451.0</td>\n",
       "      <td>2802072.0</td>\n",
       "      <td>769286.0</td>\n",
       "      <td>26436185.0</td>\n",
       "      <td>3080070.0</td>\n",
       "      <td>867819.0</td>\n",
       "      <td>22560881.0</td>\n",
       "      <td>2883969.0</td>\n",
       "      <td>801436.0</td>\n",
       "      <td>-7.2</td>\n",
       "      <td>-9.0</td>\n",
       "      <td>-11.4</td>\n",
       "      <td>8.7</td>\n",
       "      <td>-2.8</td>\n",
       "      <td>-4.0</td>\n",
       "    </tr>\n",
       "  </tbody>\n",
       "</table>\n",
       "</div>"
      ],
      "text/plain": [
       "           Date    State Category     Dollars  Unit sales  Volume sales  \\\n",
       "104  2021-10-03  Alabama  Alcohol  25122525.0   2890663.0      791668.0   \n",
       "105  2021-10-10  Alabama  Alcohol  25482173.0   2893769.0      806014.0   \n",
       "106  2021-10-17  Alabama  Alcohol  25112476.0   2889843.0      793997.0   \n",
       "107  2021-10-24  Alabama  Alcohol  24352424.0   2802999.0      768177.0   \n",
       "108  2021-10-31  Alabama  Alcohol  24521451.0   2802072.0      769286.0   \n",
       "\n",
       "     Dollars last year  Unit sales last year  Volume sales last year  \\\n",
       "104         26233675.0             3048993.0                863475.0   \n",
       "105         25100287.0             2959385.0                832191.0   \n",
       "106         25267347.0             2977838.0                835216.0   \n",
       "107         24786852.0             2912169.0                815074.0   \n",
       "108         26436185.0             3080070.0                867819.0   \n",
       "\n",
       "     Dollars 3 years ago  Unit sales 3 years ago  Volume sales 3 years ago  \\\n",
       "104           22435659.0               2976745.0                  814795.0   \n",
       "105           23309843.0               2977404.0                  854999.0   \n",
       "106           21063269.0               2744731.0                  765890.0   \n",
       "107           20183470.0               2650938.0                  713505.0   \n",
       "108           22560881.0               2883969.0                  801436.0   \n",
       "\n",
       "     Percent change dollars 1 year  Percent change units 1 year  \\\n",
       "104                           -4.2                         -5.2   \n",
       "105                            1.5                         -2.2   \n",
       "106                           -0.6                         -3.0   \n",
       "107                           -1.8                         -3.7   \n",
       "108                           -7.2                         -9.0   \n",
       "\n",
       "     Percent change volume 1 year  Percent change dollars 3 years  \\\n",
       "104                          -8.3                            12.0   \n",
       "105                          -3.1                             9.3   \n",
       "106                          -4.9                            19.2   \n",
       "107                          -5.8                            20.7   \n",
       "108                         -11.4                             8.7   \n",
       "\n",
       "     Percent change units 3 years  Percent change volume 3 years  \n",
       "104                          -2.9                           -2.8  \n",
       "105                          -2.8                           -5.7  \n",
       "106                           5.3                            3.7  \n",
       "107                           5.7                            7.7  \n",
       "108                          -2.8                           -4.0  "
      ]
     },
     "execution_count": 33,
     "metadata": {},
     "output_type": "execute_result"
    }
   ],
   "source": [
    "state_df = pd.read_excel(\"../Datasets/StateAndCategory.xlsx\", sheet_name=0, header=1)\n",
    "\n",
    "#this dataset has a bunch of missing values so we drop them but there is still plenty to work with\n",
    "state_df = state_df.dropna()\n",
    "\n",
    "state_df.head()"
   ]
  },
  {
   "cell_type": "markdown",
   "id": "2ccc29c1",
   "metadata": {},
   "source": [
    "Which state eats the healthiest?\n",
    "\n",
    "First, let's consider what it means to eat healthy, and what this dataset can tell us about that by looking at the categories."
   ]
  },
  {
   "cell_type": "code",
   "execution_count": 27,
   "id": "a79022c5",
   "metadata": {},
   "outputs": [
    {
     "data": {
      "text/plain": [
       "array(['Alcohol', 'Beverages', 'Dairy', 'Fats and oils', 'Fruits',\n",
       "       'Grains', 'Meats, eggs, and nuts', 'Other', 'Sugar and sweeteners',\n",
       "       'Vegetables'], dtype=object)"
      ]
     },
     "execution_count": 27,
     "metadata": {},
     "output_type": "execute_result"
    }
   ],
   "source": [
    "state_df[\"Category\"].unique()"
   ]
  },
  {
   "cell_type": "markdown",
   "id": "c2d80d35",
   "metadata": {},
   "source": [
    "We know that some of these things are definitely unhealthy: Alcohol and Sugar and Sweeteners. Let's see which states buy the most of those. We will look at volumes instead of dollar amounts since prices can vary a lot from state to state."
   ]
  },
  {
   "cell_type": "code",
   "execution_count": 30,
   "id": "5e815fd9",
   "metadata": {},
   "outputs": [
    {
     "data": {
      "text/plain": [
       "Text(0, 0.5, 'Alcohol Sales by Volume')"
      ]
     },
     "execution_count": 30,
     "metadata": {},
     "output_type": "execute_result"
    },
    {
     "data": {
      "image/png": "[encoded data removed]",
      "text/plain": [
       "<Figure size 432x288 with 1 Axes>"
      ]
     },
     "metadata": {
      "needs_background": "light"
     },
     "output_type": "display_data"
    }
   ],
   "source": [
    "alcohol = state_df.loc[state_df[\"Category\"] == \"Alcohol\"]\n",
    "alcohol_by_state = alcohol.groupby(alcohol[\"State\"]).sum()[\"Volume sales\"]\n",
    "alcohol_by_state = alcohol_by_state.sort_values(ascending=False)\n",
    "\n",
    "alcohol_by_state.plot.bar()\n",
    "\n",
    "plt.title(\"Alcohol Sales by Volume per State\")\n",
    "plt.xlabel(\"State\")\n",
    "plt.ylabel(\"Alcohol Sales by Volume\")"
   ]
  },
  {
   "cell_type": "markdown",
   "id": "9f591c22",
   "metadata": {},
   "source": [
    "That is interesting - at first glance, it looks a lot like the states are ranked by population, but they aren't. Texas managed to take the top spot. Hats off!"
   ]
  },
  {
   "cell_type": "code",
   "execution_count": 31,
   "id": "d4ed7658",
   "metadata": {
    "scrolled": true
   },
   "outputs": [
    {
     "data": {
      "text/plain": [
       "Text(0, 0.5, 'Sugar and other sweeteners sales by Volume')"
      ]
     },
     "execution_count": 31,
     "metadata": {},
     "output_type": "execute_result"
    },
    {
     "data": {
      "image/png": "[encoded data removed]",
      "text/plain": [
       "<Figure size 432x288 with 1 Axes>"
      ]
     },
     "metadata": {
      "needs_background": "light"
     },
     "output_type": "display_data"
    }
   ],
   "source": [
    "sugar = state_df.loc[state_df[\"Category\"] == \"Sugar and sweeteners\"]\n",
    "sugar_by_state = sugar.groupby(sugar[\"State\"]).sum()[\"Volume sales\"]\n",
    "sugar_by_state = sugar_by_state.sort_values(ascending=False)\n",
    "\n",
    "sugar_by_state.plot.bar()\n",
    "\n",
    "plt.title(\"Sugar Sales by Volume per State\")\n",
    "plt.xlabel(\"State\")\n",
    "plt.ylabel(\"Sugar and other sweeteners sales by Volume\")"
   ]
  },
  {
   "cell_type": "markdown",
   "id": "0ca2c421",
   "metadata": {},
   "source": [
    "This time, we see a couple more surprises - both Texas and Florida are above the most populous state, California. And, Georgia and North Carolina appear before New York. They like it sweet in the south!\n",
    "\n",
    "Even though we saw some unexpected results in the raw volume data, we should try to control a bit for population size as we compare the states.\n",
    "\n",
    "Now let's get back to our original question - which state eats the healthiest? - starting by pulling in some data that will help us look at per capita spending."
   ]
  },
  {
   "cell_type": "code",
   "execution_count": 74,
   "id": "eaa556b0",
   "metadata": {},
   "outputs": [],
   "source": [
    "#we will use US Census estimates from 2021 to get each state's population\n",
    "\n",
    "state_pops = pd.read_csv(\"../Datasets/census_state_pops.csv\")\n",
    "state_pops = state_pops[[\"NAME\",\"POPESTIMATE2021\"]]"
   ]
  },
  {
   "cell_type": "code",
   "execution_count": 75,
   "id": "597a650b",
   "metadata": {},
   "outputs": [],
   "source": [
    "vegetables = state_df.loc[state_df[\"Category\"] == \"Vegetables\"]\n",
    "vegetables_by_state = vegetables.groupby(vegetables[\"State\"]).sum()[\"Volume sales\"]\n",
    "vegetables_by_state = vegetables_by_state.sort_values(ascending=False)\n",
    "vegetables_by_state = pd.DataFrame(vegetables_by_state)"
   ]
  },
  {
   "cell_type": "code",
   "execution_count": 76,
   "id": "bb1c696a",
   "metadata": {},
   "outputs": [
    {
     "ename": "TypeError",
     "evalue": "'Index' object is not callable",
     "output_type": "error",
     "traceback": [
      "\u001b[0;31m---------------------------------------------------------------------------\u001b[0m",
      "\u001b[0;31mTypeError\u001b[0m                                 Traceback (most recent call last)",
      "\u001b[0;32m/var/folders/mw/zjkpp1qs79dgw3r0cj69_8s00000gn/T/ipykernel_10829/2781402334.py\u001b[0m in \u001b[0;36m<module>\u001b[0;34m\u001b[0m\n\u001b[1;32m      1\u001b[0m \u001b[0mveggies\u001b[0m \u001b[0;34m=\u001b[0m \u001b[0mpd\u001b[0m\u001b[0;34m.\u001b[0m\u001b[0mmerge\u001b[0m\u001b[0;34m(\u001b[0m\u001b[0mstate_pops\u001b[0m\u001b[0;34m,\u001b[0m\u001b[0mvegetables_by_state\u001b[0m\u001b[0;34m,\u001b[0m\u001b[0mhow\u001b[0m\u001b[0;34m=\u001b[0m\u001b[0;34m'right'\u001b[0m\u001b[0;34m,\u001b[0m\u001b[0mleft_on\u001b[0m\u001b[0;34m=\u001b[0m\u001b[0;34m'NAME'\u001b[0m\u001b[0;34m,\u001b[0m\u001b[0mright_on\u001b[0m\u001b[0;34m=\u001b[0m\u001b[0;34m'State'\u001b[0m\u001b[0;34m)\u001b[0m\u001b[0;34m\u001b[0m\u001b[0;34m\u001b[0m\u001b[0m\n\u001b[1;32m      2\u001b[0m \u001b[0mveggies\u001b[0m\u001b[0;34m[\u001b[0m\u001b[0;34m\"Veggies_per_capita\"\u001b[0m\u001b[0;34m]\u001b[0m \u001b[0;34m=\u001b[0m \u001b[0mveggies\u001b[0m\u001b[0;34m[\u001b[0m\u001b[0;34m\"Volume sales\"\u001b[0m\u001b[0;34m]\u001b[0m \u001b[0;34m/\u001b[0m \u001b[0mveggies\u001b[0m\u001b[0;34m[\u001b[0m\u001b[0;34m\"POPESTIMATE2021\"\u001b[0m\u001b[0;34m]\u001b[0m\u001b[0;34m\u001b[0m\u001b[0;34m\u001b[0m\u001b[0m\n\u001b[0;32m----> 3\u001b[0;31m \u001b[0mveggies\u001b[0m\u001b[0;34m.\u001b[0m\u001b[0mcolumns\u001b[0m\u001b[0;34m(\u001b[0m\u001b[0;34m\"State\"\u001b[0m\u001b[0;34m,\u001b[0m \u001b[0;34m\"2021 Population\"\u001b[0m\u001b[0;34m,\u001b[0m \u001b[0;34m\"2021 Vegetable Sales by Volume\"\u001b[0m\u001b[0;34m,\u001b[0m \u001b[0;34m\"Per Capita Veggie Consumption\"\u001b[0m\u001b[0;34m)\u001b[0m\u001b[0;34m\u001b[0m\u001b[0;34m\u001b[0m\u001b[0m\n\u001b[0m\u001b[1;32m      4\u001b[0m \u001b[0mveggies\u001b[0m\u001b[0;34m.\u001b[0m\u001b[0mhead\u001b[0m\u001b[0;34m(\u001b[0m\u001b[0;34m)\u001b[0m\u001b[0;34m\u001b[0m\u001b[0;34m\u001b[0m\u001b[0m\n",
      "\u001b[0;31mTypeError\u001b[0m: 'Index' object is not callable"
     ]
    }
   ],
   "source": [
    "veggies = pd.merge(state_pops,vegetables_by_state,how='right',left_on='NAME',right_on='State')\n",
    "veggies[\"Veggies_per_capita\"] = veggies[\"Volume sales\"] / veggies[\"POPESTIMATE2021\"]\n",
    "veggies.columns =\"State\", \"2021 Population\", \"2021 Vegetable Sales by Volume\", \"Per Capita Veggie Consumption\")\n",
    "veggies.head()"
   ]
  },
  {
   "cell_type": "code",
   "execution_count": null,
   "id": "29b33f9d",
   "metadata": {},
   "outputs": [],
   "source": [
    "#do statistical analysis of this list - measures of central tendency, etc."
   ]
  },
  {
   "cell_type": "code",
   "execution_count": null,
   "id": "228a5cc8",
   "metadata": {},
   "outputs": [],
   "source": [
    "#call geoapify API to get lat and lon for each state"
   ]
  },
  {
   "cell_type": "code",
   "execution_count": 57,
   "id": "576fbad2",
   "metadata": {},
   "outputs": [
    {
     "name": "stdout",
     "output_type": "stream",
     "text": [
      "[{'State': ['NAME', 'POP_2021', 'state'], 'Pop': ['Alabama', '5039877', '01']}, {'State': ['NAME', 'POP_2021', 'state'], 'Pop': ['Alaska', '732673', '02']}, {'State': ['NAME', 'POP_2021', 'state'], 'Pop': ['Arizona', '7276316', '04']}]\n"
     ]
    }
   ],
   "source": [
    "# state_pops = []\n",
    "# state = [\"01\",\"02\",\"04\"]\n",
    "\n",
    "# #find an API and pull in state population with a for loop\n",
    "\n",
    "# for x in state:\n",
    "#     url = f\"https://api.census.gov/data/2021/pep/population?get=NAME,POP_2021&for=state:{x}&key={census_api_key}\"\n",
    "#     response = requests.get(url).json()\n",
    "#     state_name = response[0]\n",
    "#     state_pop = response[1]\n",
    "    \n",
    "#     state_pops.append({\n",
    "#         \"State\": state_name,\n",
    "#         \"Pop\": state_pop\n",
    "#     })\n",
    "    \n",
    "# print(state_pops)"
   ]
  },
  {
   "cell_type": "code",
   "execution_count": null,
   "id": "54ace9d7",
   "metadata": {},
   "outputs": [],
   "source": [
    "#make a map"
   ]
  }
 ],
 "metadata": {
  "kernelspec": {
   "display_name": "Python [conda env:PythonData] *",
   "language": "python",
   "name": "conda-env-PythonData-py"
  },
  "language_info": {
   "codemirror_mode": {
    "name": "ipython",
    "version": 3
   },
   "file_extension": ".py",
   "mimetype": "text/x-python",
   "name": "python",
   "nbconvert_exporter": "python",
   "pygments_lexer": "ipython3",
   "version": "3.7.15"
  }
 },
 "nbformat": 4,
 "nbformat_minor": 5
}
