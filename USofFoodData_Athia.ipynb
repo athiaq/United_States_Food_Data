{
 "cells": [
  {
   "cell_type": "code",
   "execution_count": 2,
   "id": "d8a6caf7",
   "metadata": {},
   "outputs": [],
   "source": [
    "# Import modules\n",
    "import os\n",
    "import csv\n",
    "import pandas as pd\n",
    "import matplotlib.pyplot as plt\n",
    "import matplotlib as mpl\n",
    "import scipy.stats as st\n",
    "from scipy.stats import mode\n",
    "import random\n",
    "import numpy as np\n",
    "csvpath = os.path.join(\"StateAndCategory.xlsx\")"
   ]
  },
  {
   "cell_type": "code",
   "execution_count": 3,
   "id": "ee958a10",
   "metadata": {},
   "outputs": [
    {
     "data": {
      "text/html": [
       "<div>\n",
       "<style scoped>\n",
       "    .dataframe tbody tr th:only-of-type {\n",
       "        vertical-align: middle;\n",
       "    }\n",
       "\n",
       "    .dataframe tbody tr th {\n",
       "        vertical-align: top;\n",
       "    }\n",
       "\n",
       "    .dataframe thead th {\n",
       "        text-align: right;\n",
       "    }\n",
       "</style>\n",
       "<table border=\"1\" class=\"dataframe\">\n",
       "  <thead>\n",
       "    <tr style=\"text-align: right;\">\n",
       "      <th></th>\n",
       "      <th>States</th>\n",
       "      <th>Category</th>\n",
       "      <th>Dollars</th>\n",
       "      <th>Unit sales</th>\n",
       "      <th>Volume sales</th>\n",
       "    </tr>\n",
       "  </thead>\n",
       "  <tbody>\n",
       "    <tr>\n",
       "      <th>0</th>\n",
       "      <td>Alabama</td>\n",
       "      <td>Alcohol</td>\n",
       "      <td>23580628.0</td>\n",
       "      <td>2969760.0</td>\n",
       "      <td>836512.0</td>\n",
       "    </tr>\n",
       "    <tr>\n",
       "      <th>1</th>\n",
       "      <td>Alabama</td>\n",
       "      <td>Alcohol</td>\n",
       "      <td>23191408.0</td>\n",
       "      <td>2891303.0</td>\n",
       "      <td>828622.0</td>\n",
       "    </tr>\n",
       "    <tr>\n",
       "      <th>2</th>\n",
       "      <td>Alabama</td>\n",
       "      <td>Alcohol</td>\n",
       "      <td>21743590.0</td>\n",
       "      <td>2727065.0</td>\n",
       "      <td>761632.0</td>\n",
       "    </tr>\n",
       "    <tr>\n",
       "      <th>3</th>\n",
       "      <td>Alabama</td>\n",
       "      <td>Alcohol</td>\n",
       "      <td>21929512.0</td>\n",
       "      <td>2761075.0</td>\n",
       "      <td>767176.0</td>\n",
       "    </tr>\n",
       "    <tr>\n",
       "      <th>4</th>\n",
       "      <td>Alabama</td>\n",
       "      <td>Alcohol</td>\n",
       "      <td>23150890.0</td>\n",
       "      <td>2868207.0</td>\n",
       "      <td>813904.0</td>\n",
       "    </tr>\n",
       "    <tr>\n",
       "      <th>...</th>\n",
       "      <td>...</td>\n",
       "      <td>...</td>\n",
       "      <td>...</td>\n",
       "      <td>...</td>\n",
       "      <td>...</td>\n",
       "    </tr>\n",
       "    <tr>\n",
       "      <th>75202</th>\n",
       "      <td>Wyoming</td>\n",
       "      <td>Vegetables</td>\n",
       "      <td>2210363.0</td>\n",
       "      <td>988026.0</td>\n",
       "      <td>1591243.0</td>\n",
       "    </tr>\n",
       "    <tr>\n",
       "      <th>75203</th>\n",
       "      <td>Wyoming</td>\n",
       "      <td>Vegetables</td>\n",
       "      <td>2181357.0</td>\n",
       "      <td>972493.0</td>\n",
       "      <td>1597701.0</td>\n",
       "    </tr>\n",
       "    <tr>\n",
       "      <th>75204</th>\n",
       "      <td>Wyoming</td>\n",
       "      <td>Vegetables</td>\n",
       "      <td>2245436.0</td>\n",
       "      <td>1001169.0</td>\n",
       "      <td>1655808.0</td>\n",
       "    </tr>\n",
       "    <tr>\n",
       "      <th>75205</th>\n",
       "      <td>Wyoming</td>\n",
       "      <td>Vegetables</td>\n",
       "      <td>2343309.0</td>\n",
       "      <td>1039786.0</td>\n",
       "      <td>1786256.0</td>\n",
       "    </tr>\n",
       "    <tr>\n",
       "      <th>75206</th>\n",
       "      <td>Wyoming</td>\n",
       "      <td>Vegetables</td>\n",
       "      <td>2255732.0</td>\n",
       "      <td>983465.0</td>\n",
       "      <td>1747953.0</td>\n",
       "    </tr>\n",
       "  </tbody>\n",
       "</table>\n",
       "<p>68354 rows × 5 columns</p>\n",
       "</div>"
      ],
      "text/plain": [
       "        States    Category     Dollars  Unit sales  Volume sales\n",
       "0      Alabama     Alcohol  23580628.0   2969760.0      836512.0\n",
       "1      Alabama     Alcohol  23191408.0   2891303.0      828622.0\n",
       "2      Alabama     Alcohol  21743590.0   2727065.0      761632.0\n",
       "3      Alabama     Alcohol  21929512.0   2761075.0      767176.0\n",
       "4      Alabama     Alcohol  23150890.0   2868207.0      813904.0\n",
       "...        ...         ...         ...         ...           ...\n",
       "75202  Wyoming  Vegetables   2210363.0    988026.0     1591243.0\n",
       "75203  Wyoming  Vegetables   2181357.0    972493.0     1597701.0\n",
       "75204  Wyoming  Vegetables   2245436.0   1001169.0     1655808.0\n",
       "75205  Wyoming  Vegetables   2343309.0   1039786.0     1786256.0\n",
       "75206  Wyoming  Vegetables   2255732.0    983465.0     1747953.0\n",
       "\n",
       "[68354 rows x 5 columns]"
      ]
     },
     "execution_count": 3,
     "metadata": {},
     "output_type": "execute_result"
    }
   ],
   "source": [
    "# Read State and Category dataset into dataframe, Drop extranous columns and rows\n",
    "state_df = pd.read_excel('StateAndCategory.xlsx', header=1)\n",
    "state_df = state_df[[\"State\", \"Category\", \"Dollars\", \"Unit sales\", \"Volume sales\"]]\n",
    "state_df.columns =[\"States\", \"Category\", \"Dollars\", \"Unit sales\", \"Volume sales\"]\n",
    "state_df = state_df.dropna()\n",
    "state_df"
   ]
  },
  {
   "cell_type": "code",
   "execution_count": 4,
   "id": "61c3637f",
   "metadata": {
    "scrolled": true
   },
   "outputs": [
    {
     "data": {
      "text/plain": [
       "(array(['Alabama', 'Arizona', 'Arkansas', 'California', 'Colorado',\n",
       "        'Connecticut', 'Florida', 'Georgia', 'Illinois', 'Indiana', 'Iowa',\n",
       "        'Kansas', 'Kentucky', 'Louisiana', 'Maine', 'Maryland',\n",
       "        'Massachusetts', 'Michigan', 'Minnesota', 'Mississippi',\n",
       "        'Missouri', 'Nebraska', 'Nevada', 'New Hampshire', 'New Mexico',\n",
       "        'New York', 'North Carolina', 'Ohio', 'Oklahoma', 'Oregon',\n",
       "        'Pennsylvania', 'Rhode Island', 'South Carolina', 'South Dakota',\n",
       "        'Tennessee', 'Texas', 'Utah', 'Vermont', 'Virginia', 'Washington',\n",
       "        'West Virginia', 'Wisconsin', 'Wyoming'], dtype=object),\n",
       " 43)"
      ]
     },
     "execution_count": 4,
     "metadata": {},
     "output_type": "execute_result"
    }
   ],
   "source": [
    "# Find all the States included in the data set and count the number of different states\n",
    "state_unique = state_df[\"States\"].unique()\n",
    "state_unique , len(state_unique)\n"
   ]
  },
  {
   "cell_type": "markdown",
   "id": "eaa0c4df",
   "metadata": {},
   "source": [
    "At first glance it may appear that all 50 states are included in the dataset, however, it looks like 43 are only included. The states included in the dataframe are listed above. "
   ]
  },
  {
   "cell_type": "code",
   "execution_count": 5,
   "id": "46ee2bb0",
   "metadata": {},
   "outputs": [
    {
     "data": {
      "text/plain": [
       "(array(['Alcohol', 'Beverages', 'Dairy', 'Fats and oils', 'Fruits',\n",
       "        'Grains', 'Meats, eggs, and nuts', 'Other', 'Sugar and sweeteners',\n",
       "        'Vegetables'], dtype=object),\n",
       " 10)"
      ]
     },
     "execution_count": 5,
     "metadata": {},
     "output_type": "execute_result"
    }
   ],
   "source": [
    "# Find different categories included in the dataset and count the number of different categories\n",
    "category_unique = state_df[\"Category\"].unique()\n",
    "category_unique , len(category_unique)"
   ]
  },
  {
   "cell_type": "code",
   "execution_count": 6,
   "id": "c77aeb15",
   "metadata": {},
   "outputs": [
    {
     "data": {
      "text/html": [
       "<div>\n",
       "<style scoped>\n",
       "    .dataframe tbody tr th:only-of-type {\n",
       "        vertical-align: middle;\n",
       "    }\n",
       "\n",
       "    .dataframe tbody tr th {\n",
       "        vertical-align: top;\n",
       "    }\n",
       "\n",
       "    .dataframe thead th {\n",
       "        text-align: right;\n",
       "    }\n",
       "</style>\n",
       "<table border=\"1\" class=\"dataframe\">\n",
       "  <thead>\n",
       "    <tr style=\"text-align: right;\">\n",
       "      <th></th>\n",
       "      <th>State</th>\n",
       "      <th>Population</th>\n",
       "    </tr>\n",
       "  </thead>\n",
       "  <tbody>\n",
       "    <tr>\n",
       "      <th>0</th>\n",
       "      <td>Alabama</td>\n",
       "      <td>4903185</td>\n",
       "    </tr>\n",
       "    <tr>\n",
       "      <th>1</th>\n",
       "      <td>Alaska</td>\n",
       "      <td>731545</td>\n",
       "    </tr>\n",
       "    <tr>\n",
       "      <th>2</th>\n",
       "      <td>Arizona</td>\n",
       "      <td>7278717</td>\n",
       "    </tr>\n",
       "    <tr>\n",
       "      <th>3</th>\n",
       "      <td>Arkansas</td>\n",
       "      <td>3017804</td>\n",
       "    </tr>\n",
       "    <tr>\n",
       "      <th>4</th>\n",
       "      <td>California</td>\n",
       "      <td>39512223</td>\n",
       "    </tr>\n",
       "  </tbody>\n",
       "</table>\n",
       "</div>"
      ],
      "text/plain": [
       "        State  Population\n",
       "0     Alabama     4903185\n",
       "1      Alaska      731545\n",
       "2     Arizona     7278717\n",
       "3    Arkansas     3017804\n",
       "4  California    39512223"
      ]
     },
     "execution_count": 6,
     "metadata": {},
     "output_type": "execute_result"
    }
   ],
   "source": [
    "# Read Census data into dataframe, # Drop extraneous rows and columns\n",
    "pop = pd.read_csv(\"2019_Census_US_Population_Data_By_State_Lat_long.csv\")\n",
    "pop = pop[[\"STATE\", \"POPESTIMATE2019\"]]\n",
    "pop.columns = [\"State\", \"Population\"]\n",
    "pop.dropna()\n",
    "pop.head()"
   ]
  },
  {
   "cell_type": "code",
   "execution_count": 7,
   "id": "cba7e3f7",
   "metadata": {},
   "outputs": [
    {
     "data": {
      "text/plain": [
       "States\n",
       "Texas             699009614.0\n",
       "California        592482370.0\n",
       "Florida           505034788.0\n",
       "North Carolina    274602051.0\n",
       "Ohio              265589817.0\n",
       "Name: Volume sales, dtype: float64"
      ]
     },
     "metadata": {},
     "output_type": "display_data"
    }
   ],
   "source": [
    "# States with highest alcohol consumption based on Volume Sales\n",
    "alcohol = state_df.loc[state_df[\"Category\"] == \"Alcohol\"]\n",
    "alcohol_by_state = alcohol.groupby(alcohol[\"States\"]).sum()[\"Volume sales\"]\n",
    "alcohol_by_state = alcohol_by_state.sort_values(ascending=False)\n",
    "display(alcohol_by_state.head())"
   ]
  },
  {
   "cell_type": "code",
   "execution_count": 8,
   "id": "28d9465c",
   "metadata": {
    "scrolled": true
   },
   "outputs": [
    {
     "data": {
      "text/html": [
       "<div>\n",
       "<style scoped>\n",
       "    .dataframe tbody tr th:only-of-type {\n",
       "        vertical-align: middle;\n",
       "    }\n",
       "\n",
       "    .dataframe tbody tr th {\n",
       "        vertical-align: top;\n",
       "    }\n",
       "\n",
       "    .dataframe thead tr th {\n",
       "        text-align: left;\n",
       "    }\n",
       "\n",
       "    .dataframe thead tr:last-of-type th {\n",
       "        text-align: right;\n",
       "    }\n",
       "</style>\n",
       "<table border=\"1\" class=\"dataframe\">\n",
       "  <thead>\n",
       "    <tr>\n",
       "      <th></th>\n",
       "      <th colspan=\"5\" halign=\"left\">Volume sales</th>\n",
       "    </tr>\n",
       "    <tr>\n",
       "      <th></th>\n",
       "      <th>mean</th>\n",
       "      <th>median</th>\n",
       "      <th>var</th>\n",
       "      <th>std</th>\n",
       "      <th>sem</th>\n",
       "    </tr>\n",
       "    <tr>\n",
       "      <th>States</th>\n",
       "      <th></th>\n",
       "      <th></th>\n",
       "      <th></th>\n",
       "      <th></th>\n",
       "      <th></th>\n",
       "    </tr>\n",
       "  </thead>\n",
       "  <tbody>\n",
       "    <tr>\n",
       "      <th>Alabama</th>\n",
       "      <td>3.981282e+07</td>\n",
       "      <td>9234758.0</td>\n",
       "      <td>7.897530e+15</td>\n",
       "      <td>8.886805e+07</td>\n",
       "      <td>2.228677e+06</td>\n",
       "    </tr>\n",
       "    <tr>\n",
       "      <th>Arizona</th>\n",
       "      <td>4.731101e+07</td>\n",
       "      <td>16360459.5</td>\n",
       "      <td>9.392952e+15</td>\n",
       "      <td>9.691724e+07</td>\n",
       "      <td>2.430538e+06</td>\n",
       "    </tr>\n",
       "    <tr>\n",
       "      <th>Arkansas</th>\n",
       "      <td>2.130040e+07</td>\n",
       "      <td>6636847.0</td>\n",
       "      <td>1.972210e+15</td>\n",
       "      <td>4.440957e+07</td>\n",
       "      <td>1.113725e+06</td>\n",
       "    </tr>\n",
       "    <tr>\n",
       "      <th>California</th>\n",
       "      <td>1.717772e+08</td>\n",
       "      <td>60286206.0</td>\n",
       "      <td>1.227545e+17</td>\n",
       "      <td>3.503633e+08</td>\n",
       "      <td>8.786585e+06</td>\n",
       "    </tr>\n",
       "    <tr>\n",
       "      <th>Colorado</th>\n",
       "      <td>3.484989e+07</td>\n",
       "      <td>12552979.0</td>\n",
       "      <td>4.975208e+15</td>\n",
       "      <td>7.053515e+07</td>\n",
       "      <td>1.768915e+06</td>\n",
       "    </tr>\n",
       "  </tbody>\n",
       "</table>\n",
       "</div>"
      ],
      "text/plain": [
       "            Volume sales                                                      \n",
       "                    mean      median           var           std           sem\n",
       "States                                                                        \n",
       "Alabama     3.981282e+07   9234758.0  7.897530e+15  8.886805e+07  2.228677e+06\n",
       "Arizona     4.731101e+07  16360459.5  9.392952e+15  9.691724e+07  2.430538e+06\n",
       "Arkansas    2.130040e+07   6636847.0  1.972210e+15  4.440957e+07  1.113725e+06\n",
       "California  1.717772e+08  60286206.0  1.227545e+17  3.503633e+08  8.786585e+06\n",
       "Colorado    3.484989e+07  12552979.0  4.975208e+15  7.053515e+07  1.768915e+06"
      ]
     },
     "execution_count": 8,
     "metadata": {},
     "output_type": "execute_result"
    }
   ],
   "source": [
    "# Using the aggregation method to generate Summary Statistics table\n",
    "summary_stats = state_df.groupby([\"States\"])[[\"Volume sales\"]]\n",
    "summary_stats.agg(['mean', 'median', 'var', 'std','sem']).head()"
   ]
  },
  {
   "cell_type": "code",
   "execution_count": 9,
   "id": "e2dcc301",
   "metadata": {},
   "outputs": [
    {
     "data": {
      "text/html": [
       "<div>\n",
       "<style scoped>\n",
       "    .dataframe tbody tr th:only-of-type {\n",
       "        vertical-align: middle;\n",
       "    }\n",
       "\n",
       "    .dataframe tbody tr th {\n",
       "        vertical-align: top;\n",
       "    }\n",
       "\n",
       "    .dataframe thead th {\n",
       "        text-align: right;\n",
       "    }\n",
       "</style>\n",
       "<table border=\"1\" class=\"dataframe\">\n",
       "  <thead>\n",
       "    <tr style=\"text-align: right;\">\n",
       "      <th></th>\n",
       "      <th>State</th>\n",
       "      <th>Population</th>\n",
       "      <th>Volume sales</th>\n",
       "      <th>Per Capita</th>\n",
       "    </tr>\n",
       "  </thead>\n",
       "  <tbody>\n",
       "    <tr>\n",
       "      <th>0</th>\n",
       "      <td>Texas</td>\n",
       "      <td>28995881</td>\n",
       "      <td>699009614.0</td>\n",
       "      <td>24.107204</td>\n",
       "    </tr>\n",
       "    <tr>\n",
       "      <th>1</th>\n",
       "      <td>California</td>\n",
       "      <td>39512223</td>\n",
       "      <td>592482370.0</td>\n",
       "      <td>14.994914</td>\n",
       "    </tr>\n",
       "    <tr>\n",
       "      <th>2</th>\n",
       "      <td>Florida</td>\n",
       "      <td>21477737</td>\n",
       "      <td>505034788.0</td>\n",
       "      <td>23.514339</td>\n",
       "    </tr>\n",
       "    <tr>\n",
       "      <th>3</th>\n",
       "      <td>North Carolina</td>\n",
       "      <td>10488084</td>\n",
       "      <td>274602051.0</td>\n",
       "      <td>26.182289</td>\n",
       "    </tr>\n",
       "    <tr>\n",
       "      <th>4</th>\n",
       "      <td>Ohio</td>\n",
       "      <td>11689100</td>\n",
       "      <td>265589817.0</td>\n",
       "      <td>22.721152</td>\n",
       "    </tr>\n",
       "  </tbody>\n",
       "</table>\n",
       "</div>"
      ],
      "text/plain": [
       "            State  Population  Volume sales  Per Capita\n",
       "0           Texas    28995881   699009614.0   24.107204\n",
       "1      California    39512223   592482370.0   14.994914\n",
       "2         Florida    21477737   505034788.0   23.514339\n",
       "3  North Carolina    10488084   274602051.0   26.182289\n",
       "4            Ohio    11689100   265589817.0   22.721152"
      ]
     },
     "execution_count": 9,
     "metadata": {},
     "output_type": "execute_result"
    }
   ],
   "source": [
    "state_pop = pd.merge(pop,alcohol_by_state,how='right',left_on='State',right_on='States')\n",
    "state_pop[\"Per Capita\"] = state_pop[\"Volume sales\"] / state_pop[\"Population\"]\n",
    "state_pop.head()"
   ]
  },
  {
   "cell_type": "code",
   "execution_count": 10,
   "id": "a764d8ab",
   "metadata": {},
   "outputs": [
    {
     "data": {
      "text/plain": [
       "Text(0, 0.5, 'Per Capita Alcohol')"
      ]
     },
     "execution_count": 10,
     "metadata": {},
     "output_type": "execute_result"
    },
    {
     "data": {
      "image/png": "[encoded data removed]",
      "text/plain": [
       "<Figure size 640x480 with 1 Axes>"
      ]
     },
     "metadata": {},
     "output_type": "display_data"
    }
   ],
   "source": [
    "alcohol_by_state = state_pop.groupby(state_pop['State']).sum()['Per Capita']\n",
    "alcohol_by_state = alcohol_by_state.sort_values(ascending= False)\n",
    "alcohol_by_state.plot.bar()\n",
    "plt.title('Alcohol Volume Sales Per Capita by State')\n",
    "plt.xlabel('State')\n",
    "plt.xticks(rotation = 90)\n",
    "plt.ylabel('Per Capita Alcohol')"
   ]
  },
  {
   "cell_type": "markdown",
   "id": "ca1d32d6",
   "metadata": {},
   "source": [
    "The above figure illustrates the states with the highest and lowest per capita alcohol sales based on population. New Hampshire was found to have the largest alcohol per capita sales while Rhode island was found to have the least. "
   ]
  },
  {
   "cell_type": "markdown",
   "id": "b2e3c321",
   "metadata": {},
   "source": [
    "Now that we have analyzed the per capita alcohol sales based on the population of each state, we can look at the median household income per state to see if there is any correlation between the two. "
   ]
  },
  {
   "cell_type": "code",
   "execution_count": 11,
   "id": "d3c9392d",
   "metadata": {},
   "outputs": [
    {
     "data": {
      "text/html": [
       "<div>\n",
       "<style scoped>\n",
       "    .dataframe tbody tr th:only-of-type {\n",
       "        vertical-align: middle;\n",
       "    }\n",
       "\n",
       "    .dataframe tbody tr th {\n",
       "        vertical-align: top;\n",
       "    }\n",
       "\n",
       "    .dataframe thead th {\n",
       "        text-align: right;\n",
       "    }\n",
       "</style>\n",
       "<table border=\"1\" class=\"dataframe\">\n",
       "  <thead>\n",
       "    <tr style=\"text-align: right;\">\n",
       "      <th></th>\n",
       "      <th>States</th>\n",
       "      <th>Median Household Income</th>\n",
       "    </tr>\n",
       "  </thead>\n",
       "  <tbody>\n",
       "    <tr>\n",
       "      <th>0</th>\n",
       "      <td>United States</td>\n",
       "      <td>61,372</td>\n",
       "    </tr>\n",
       "    <tr>\n",
       "      <th>1</th>\n",
       "      <td>Alabama</td>\n",
       "      <td>51,113</td>\n",
       "    </tr>\n",
       "    <tr>\n",
       "      <th>2</th>\n",
       "      <td>Alaska</td>\n",
       "      <td>72,231</td>\n",
       "    </tr>\n",
       "    <tr>\n",
       "      <th>3</th>\n",
       "      <td>Arizona</td>\n",
       "      <td>61,125</td>\n",
       "    </tr>\n",
       "    <tr>\n",
       "      <th>4</th>\n",
       "      <td>Arkansas</td>\n",
       "      <td>48,829</td>\n",
       "    </tr>\n",
       "    <tr>\n",
       "      <th>5</th>\n",
       "      <td>California</td>\n",
       "      <td>69,759</td>\n",
       "    </tr>\n",
       "    <tr>\n",
       "      <th>6</th>\n",
       "      <td>Colorado</td>\n",
       "      <td>74,172</td>\n",
       "    </tr>\n",
       "    <tr>\n",
       "      <th>7</th>\n",
       "      <td>Connecticut</td>\n",
       "      <td>72,780</td>\n",
       "    </tr>\n",
       "    <tr>\n",
       "      <th>8</th>\n",
       "      <td>Delaware</td>\n",
       "      <td>62,318</td>\n",
       "    </tr>\n",
       "    <tr>\n",
       "      <th>9</th>\n",
       "      <td>D.C.</td>\n",
       "      <td>83,382</td>\n",
       "    </tr>\n",
       "    <tr>\n",
       "      <th>10</th>\n",
       "      <td>Florida</td>\n",
       "      <td>53,681</td>\n",
       "    </tr>\n",
       "    <tr>\n",
       "      <th>11</th>\n",
       "      <td>Georgia</td>\n",
       "      <td>57,016</td>\n",
       "    </tr>\n",
       "    <tr>\n",
       "      <th>12</th>\n",
       "      <td>Hawaii</td>\n",
       "      <td>73,575</td>\n",
       "    </tr>\n",
       "    <tr>\n",
       "      <th>13</th>\n",
       "      <td>Idaho</td>\n",
       "      <td>60,208</td>\n",
       "    </tr>\n",
       "    <tr>\n",
       "      <th>14</th>\n",
       "      <td>Illinois</td>\n",
       "      <td>64,609</td>\n",
       "    </tr>\n",
       "    <tr>\n",
       "      <th>15</th>\n",
       "      <td>Indiana</td>\n",
       "      <td>58,873</td>\n",
       "    </tr>\n",
       "    <tr>\n",
       "      <th>16</th>\n",
       "      <td>Iowa</td>\n",
       "      <td>63,481</td>\n",
       "    </tr>\n",
       "    <tr>\n",
       "      <th>17</th>\n",
       "      <td>Kansas</td>\n",
       "      <td>57,872</td>\n",
       "    </tr>\n",
       "    <tr>\n",
       "      <th>18</th>\n",
       "      <td>Kentucky</td>\n",
       "      <td>51,348</td>\n",
       "    </tr>\n",
       "    <tr>\n",
       "      <th>19</th>\n",
       "      <td>Louisiana</td>\n",
       "      <td>43,903</td>\n",
       "    </tr>\n",
       "    <tr>\n",
       "      <th>20</th>\n",
       "      <td>Maine</td>\n",
       "      <td>51,664</td>\n",
       "    </tr>\n",
       "    <tr>\n",
       "      <th>21</th>\n",
       "      <td>Maryland</td>\n",
       "      <td>81,084</td>\n",
       "    </tr>\n",
       "    <tr>\n",
       "      <th>22</th>\n",
       "      <td>Massachusetts</td>\n",
       "      <td>73,227</td>\n",
       "    </tr>\n",
       "    <tr>\n",
       "      <th>23</th>\n",
       "      <td>Michigan</td>\n",
       "      <td>57,700</td>\n",
       "    </tr>\n",
       "    <tr>\n",
       "      <th>24</th>\n",
       "      <td>Minnesota</td>\n",
       "      <td>71,920</td>\n",
       "    </tr>\n",
       "    <tr>\n",
       "      <th>25</th>\n",
       "      <td>Mississippi</td>\n",
       "      <td>43,441</td>\n",
       "    </tr>\n",
       "    <tr>\n",
       "      <th>26</th>\n",
       "      <td>Missouri</td>\n",
       "      <td>56,885</td>\n",
       "    </tr>\n",
       "    <tr>\n",
       "      <th>27</th>\n",
       "      <td>Montana</td>\n",
       "      <td>59,087</td>\n",
       "    </tr>\n",
       "    <tr>\n",
       "      <th>28</th>\n",
       "      <td>Nebraska</td>\n",
       "      <td>59,619</td>\n",
       "    </tr>\n",
       "    <tr>\n",
       "      <th>29</th>\n",
       "      <td>Nevada</td>\n",
       "      <td>56,550</td>\n",
       "    </tr>\n",
       "    <tr>\n",
       "      <th>30</th>\n",
       "      <td>New Hampshire</td>\n",
       "      <td>74,801</td>\n",
       "    </tr>\n",
       "    <tr>\n",
       "      <th>31</th>\n",
       "      <td>New Jersey</td>\n",
       "      <td>72,997</td>\n",
       "    </tr>\n",
       "    <tr>\n",
       "      <th>32</th>\n",
       "      <td>New Mexico</td>\n",
       "      <td>47,855</td>\n",
       "    </tr>\n",
       "    <tr>\n",
       "      <th>33</th>\n",
       "      <td>New York</td>\n",
       "      <td>62,447</td>\n",
       "    </tr>\n",
       "    <tr>\n",
       "      <th>34</th>\n",
       "      <td>North Carolina</td>\n",
       "      <td>50,343</td>\n",
       "    </tr>\n",
       "    <tr>\n",
       "      <th>35</th>\n",
       "      <td>North Dakota</td>\n",
       "      <td>59,886</td>\n",
       "    </tr>\n",
       "    <tr>\n",
       "      <th>36</th>\n",
       "      <td>Ohio</td>\n",
       "      <td>59,768</td>\n",
       "    </tr>\n",
       "    <tr>\n",
       "      <th>37</th>\n",
       "      <td>Oklahoma</td>\n",
       "      <td>55,006</td>\n",
       "    </tr>\n",
       "    <tr>\n",
       "      <th>38</th>\n",
       "      <td>Oregon</td>\n",
       "      <td>64,610</td>\n",
       "    </tr>\n",
       "    <tr>\n",
       "      <th>39</th>\n",
       "      <td>Pennsylvania</td>\n",
       "      <td>63,173</td>\n",
       "    </tr>\n",
       "    <tr>\n",
       "      <th>40</th>\n",
       "      <td>Rhode Island</td>\n",
       "      <td>66,390</td>\n",
       "    </tr>\n",
       "    <tr>\n",
       "      <th>41</th>\n",
       "      <td>South Carolina</td>\n",
       "      <td>54,971</td>\n",
       "    </tr>\n",
       "    <tr>\n",
       "      <th>42</th>\n",
       "      <td>South Dakota</td>\n",
       "      <td>56,894</td>\n",
       "    </tr>\n",
       "    <tr>\n",
       "      <th>43</th>\n",
       "      <td>Tennessee</td>\n",
       "      <td>55,240</td>\n",
       "    </tr>\n",
       "    <tr>\n",
       "      <th>44</th>\n",
       "      <td>Texas</td>\n",
       "      <td>59,295</td>\n",
       "    </tr>\n",
       "    <tr>\n",
       "      <th>45</th>\n",
       "      <td>Utah</td>\n",
       "      <td>71,319</td>\n",
       "    </tr>\n",
       "    <tr>\n",
       "      <th>46</th>\n",
       "      <td>Vermont</td>\n",
       "      <td>63,805</td>\n",
       "    </tr>\n",
       "    <tr>\n",
       "      <th>47</th>\n",
       "      <td>Virginia</td>\n",
       "      <td>71,293</td>\n",
       "    </tr>\n",
       "    <tr>\n",
       "      <th>48</th>\n",
       "      <td>Washington</td>\n",
       "      <td>75,418</td>\n",
       "    </tr>\n",
       "    <tr>\n",
       "      <th>49</th>\n",
       "      <td>West Virginia</td>\n",
       "      <td>45,392</td>\n",
       "    </tr>\n",
       "    <tr>\n",
       "      <th>50</th>\n",
       "      <td>Wisconsin</td>\n",
       "      <td>63,451</td>\n",
       "    </tr>\n",
       "    <tr>\n",
       "      <th>51</th>\n",
       "      <td>Wyoming</td>\n",
       "      <td>57,837</td>\n",
       "    </tr>\n",
       "  </tbody>\n",
       "</table>\n",
       "</div>"
      ],
      "text/plain": [
       "            States Median Household Income\n",
       "0    United States                  61,372\n",
       "1          Alabama                  51,113\n",
       "2           Alaska                  72,231\n",
       "3          Arizona                  61,125\n",
       "4         Arkansas                  48,829\n",
       "5       California                  69,759\n",
       "6         Colorado                  74,172\n",
       "7      Connecticut                  72,780\n",
       "8         Delaware                  62,318\n",
       "9             D.C.                  83,382\n",
       "10         Florida                  53,681\n",
       "11         Georgia                  57,016\n",
       "12          Hawaii                  73,575\n",
       "13           Idaho                  60,208\n",
       "14        Illinois                  64,609\n",
       "15         Indiana                  58,873\n",
       "16            Iowa                  63,481\n",
       "17          Kansas                  57,872\n",
       "18        Kentucky                  51,348\n",
       "19       Louisiana                  43,903\n",
       "20           Maine                  51,664\n",
       "21        Maryland                  81,084\n",
       "22   Massachusetts                  73,227\n",
       "23        Michigan                  57,700\n",
       "24       Minnesota                  71,920\n",
       "25     Mississippi                  43,441\n",
       "26        Missouri                  56,885\n",
       "27         Montana                  59,087\n",
       "28        Nebraska                  59,619\n",
       "29          Nevada                  56,550\n",
       "30   New Hampshire                  74,801\n",
       "31      New Jersey                  72,997\n",
       "32      New Mexico                  47,855\n",
       "33        New York                  62,447\n",
       "34  North Carolina                  50,343\n",
       "35    North Dakota                  59,886\n",
       "36            Ohio                  59,768\n",
       "37        Oklahoma                  55,006\n",
       "38          Oregon                  64,610\n",
       "39    Pennsylvania                  63,173\n",
       "40    Rhode Island                  66,390\n",
       "41  South Carolina                  54,971\n",
       "42    South Dakota                  56,894\n",
       "43       Tennessee                  55,240\n",
       "44           Texas                  59,295\n",
       "45            Utah                  71,319\n",
       "46         Vermont                  63,805\n",
       "47        Virginia                  71,293\n",
       "48      Washington                  75,418\n",
       "49   West Virginia                  45,392\n",
       "50       Wisconsin                  63,451\n",
       "51         Wyoming                  57,837"
      ]
     },
     "execution_count": 11,
     "metadata": {},
     "output_type": "execute_result"
    }
   ],
   "source": [
    "# Data frame that shows the median household income per state\n",
    "state_income = pd.read_csv(\"household_median_income_2017.csv\")\n",
    "state_income = state_income[[\"State\", \"2017\"]]\n",
    "state_income.columns = ['States', 'Median Household Income']\n",
    "state_income.dropna()"
   ]
  },
  {
   "cell_type": "code",
   "execution_count": 12,
   "id": "d6c8ff85",
   "metadata": {},
   "outputs": [],
   "source": [
    "#state_income[\"Median Household Income\"].astype('int')\n",
    "state_income['Median Household Income']=state_income['Median Household Income'].str.replace(',','')\n",
    "state_incomes = state_income.dropna()"
   ]
  },
  {
   "cell_type": "code",
   "execution_count": 13,
   "id": "935151db",
   "metadata": {},
   "outputs": [
    {
     "data": {
      "text/html": [
       "<div>\n",
       "<style scoped>\n",
       "    .dataframe tbody tr th:only-of-type {\n",
       "        vertical-align: middle;\n",
       "    }\n",
       "\n",
       "    .dataframe tbody tr th {\n",
       "        vertical-align: top;\n",
       "    }\n",
       "\n",
       "    .dataframe thead th {\n",
       "        text-align: right;\n",
       "    }\n",
       "</style>\n",
       "<table border=\"1\" class=\"dataframe\">\n",
       "  <thead>\n",
       "    <tr style=\"text-align: right;\">\n",
       "      <th></th>\n",
       "      <th>States</th>\n",
       "      <th>Median Household Income</th>\n",
       "    </tr>\n",
       "  </thead>\n",
       "  <tbody>\n",
       "    <tr>\n",
       "      <th>0</th>\n",
       "      <td>United States</td>\n",
       "      <td>61372</td>\n",
       "    </tr>\n",
       "    <tr>\n",
       "      <th>1</th>\n",
       "      <td>Alabama</td>\n",
       "      <td>51113</td>\n",
       "    </tr>\n",
       "    <tr>\n",
       "      <th>2</th>\n",
       "      <td>Alaska</td>\n",
       "      <td>72231</td>\n",
       "    </tr>\n",
       "    <tr>\n",
       "      <th>3</th>\n",
       "      <td>Arizona</td>\n",
       "      <td>61125</td>\n",
       "    </tr>\n",
       "    <tr>\n",
       "      <th>4</th>\n",
       "      <td>Arkansas</td>\n",
       "      <td>48829</td>\n",
       "    </tr>\n",
       "  </tbody>\n",
       "</table>\n",
       "</div>"
      ],
      "text/plain": [
       "          States Median Household Income\n",
       "0  United States                   61372\n",
       "1        Alabama                   51113\n",
       "2         Alaska                   72231\n",
       "3        Arizona                   61125\n",
       "4       Arkansas                   48829"
      ]
     },
     "execution_count": 13,
     "metadata": {},
     "output_type": "execute_result"
    }
   ],
   "source": [
    "state_incomes[\"Median Household Income\"].astype('int')\n",
    "state_incomes.head()"
   ]
  },
  {
   "cell_type": "code",
   "execution_count": 14,
   "id": "224c6d52",
   "metadata": {
    "scrolled": true
   },
   "outputs": [
    {
     "data": {
      "text/html": [
       "<div>\n",
       "<style scoped>\n",
       "    .dataframe tbody tr th:only-of-type {\n",
       "        vertical-align: middle;\n",
       "    }\n",
       "\n",
       "    .dataframe tbody tr th {\n",
       "        vertical-align: top;\n",
       "    }\n",
       "\n",
       "    .dataframe thead th {\n",
       "        text-align: right;\n",
       "    }\n",
       "</style>\n",
       "<table border=\"1\" class=\"dataframe\">\n",
       "  <thead>\n",
       "    <tr style=\"text-align: right;\">\n",
       "      <th></th>\n",
       "      <th>State</th>\n",
       "      <th>Population</th>\n",
       "      <th>Volume sales</th>\n",
       "      <th>Per Capita</th>\n",
       "      <th>Median Household Income</th>\n",
       "    </tr>\n",
       "  </thead>\n",
       "  <tbody>\n",
       "    <tr>\n",
       "      <th>0</th>\n",
       "      <td>Texas</td>\n",
       "      <td>28995881</td>\n",
       "      <td>699009614.0</td>\n",
       "      <td>24.107204</td>\n",
       "      <td>59295</td>\n",
       "    </tr>\n",
       "    <tr>\n",
       "      <th>1</th>\n",
       "      <td>California</td>\n",
       "      <td>39512223</td>\n",
       "      <td>592482370.0</td>\n",
       "      <td>14.994914</td>\n",
       "      <td>69759</td>\n",
       "    </tr>\n",
       "    <tr>\n",
       "      <th>2</th>\n",
       "      <td>Florida</td>\n",
       "      <td>21477737</td>\n",
       "      <td>505034788.0</td>\n",
       "      <td>23.514339</td>\n",
       "      <td>53681</td>\n",
       "    </tr>\n",
       "    <tr>\n",
       "      <th>3</th>\n",
       "      <td>North Carolina</td>\n",
       "      <td>10488084</td>\n",
       "      <td>274602051.0</td>\n",
       "      <td>26.182289</td>\n",
       "      <td>50343</td>\n",
       "    </tr>\n",
       "    <tr>\n",
       "      <th>4</th>\n",
       "      <td>Ohio</td>\n",
       "      <td>11689100</td>\n",
       "      <td>265589817.0</td>\n",
       "      <td>22.721152</td>\n",
       "      <td>59768</td>\n",
       "    </tr>\n",
       "  </tbody>\n",
       "</table>\n",
       "</div>"
      ],
      "text/plain": [
       "            State  Population  Volume sales  Per Capita  \\\n",
       "0           Texas    28995881   699009614.0   24.107204   \n",
       "1      California    39512223   592482370.0   14.994914   \n",
       "2         Florida    21477737   505034788.0   23.514339   \n",
       "3  North Carolina    10488084   274602051.0   26.182289   \n",
       "4            Ohio    11689100   265589817.0   22.721152   \n",
       "\n",
       "  Median Household Income  \n",
       "0                   59295  \n",
       "1                   69759  \n",
       "2                   53681  \n",
       "3                   50343  \n",
       "4                   59768  "
      ]
     },
     "execution_count": 14,
     "metadata": {},
     "output_type": "execute_result"
    }
   ],
   "source": [
    "alcohol_income = pd.merge(state_incomes, state_pop, how = 'right', left_on='States', right_on='State')\n",
    "alcohol_income = alcohol_income[[\"State\", \"Population\", \"Volume sales\", \"Per Capita\", \"Median Household Income\"]]\n",
    "alcohol_income.head()"
   ]
  },
  {
   "cell_type": "code",
   "execution_count": 15,
   "id": "0591bdf0",
   "metadata": {},
   "outputs": [
    {
     "data": {
      "text/plain": [
       "count    43.000000\n",
       "mean     18.634383\n",
       "std       8.804828\n",
       "min       0.206171\n",
       "25%      12.985178\n",
       "50%      22.395520\n",
       "75%      24.396063\n",
       "max      37.211377\n",
       "Name: Per Capita, dtype: float64"
      ]
     },
     "execution_count": 15,
     "metadata": {},
     "output_type": "execute_result"
    }
   ],
   "source": [
    "alcohol_income['Per Capita'].describe()"
   ]
  },
  {
   "cell_type": "code",
   "execution_count": 16,
   "id": "ee2aca1a",
   "metadata": {},
   "outputs": [
    {
     "data": {
      "text/plain": [
       "22.39551975192214"
      ]
     },
     "execution_count": 16,
     "metadata": {},
     "output_type": "execute_result"
    }
   ],
   "source": [
    "alcohol_income['Per Capita'].median()"
   ]
  },
  {
   "cell_type": "code",
   "execution_count": 17,
   "id": "92dad70b",
   "metadata": {},
   "outputs": [
    {
     "data": {
      "text/plain": [
       "State                       object\n",
       "Population                   int64\n",
       "Volume sales               float64\n",
       "Per Capita                 float64\n",
       "Median Household Income     object\n",
       "dtype: object"
      ]
     },
     "execution_count": 17,
     "metadata": {},
     "output_type": "execute_result"
    }
   ],
   "source": [
    "#Checking data types for each column\n",
    "alcohol_income.dtypes"
   ]
  },
  {
   "cell_type": "code",
   "execution_count": 18,
   "id": "b0c35c55",
   "metadata": {
    "scrolled": true
   },
   "outputs": [
    {
     "data": {
      "text/html": [
       "<div>\n",
       "<style scoped>\n",
       "    .dataframe tbody tr th:only-of-type {\n",
       "        vertical-align: middle;\n",
       "    }\n",
       "\n",
       "    .dataframe tbody tr th {\n",
       "        vertical-align: top;\n",
       "    }\n",
       "\n",
       "    .dataframe thead th {\n",
       "        text-align: right;\n",
       "    }\n",
       "</style>\n",
       "<table border=\"1\" class=\"dataframe\">\n",
       "  <thead>\n",
       "    <tr style=\"text-align: right;\">\n",
       "      <th></th>\n",
       "      <th>State</th>\n",
       "      <th>Population</th>\n",
       "      <th>Volume sales</th>\n",
       "      <th>Per Capita</th>\n",
       "      <th>Median Household Income</th>\n",
       "    </tr>\n",
       "  </thead>\n",
       "  <tbody>\n",
       "    <tr>\n",
       "      <th>0</th>\n",
       "      <td>Texas</td>\n",
       "      <td>28995881</td>\n",
       "      <td>699009614.0</td>\n",
       "      <td>24.107204</td>\n",
       "      <td>59295.0</td>\n",
       "    </tr>\n",
       "    <tr>\n",
       "      <th>1</th>\n",
       "      <td>California</td>\n",
       "      <td>39512223</td>\n",
       "      <td>592482370.0</td>\n",
       "      <td>14.994914</td>\n",
       "      <td>69759.0</td>\n",
       "    </tr>\n",
       "    <tr>\n",
       "      <th>2</th>\n",
       "      <td>Florida</td>\n",
       "      <td>21477737</td>\n",
       "      <td>505034788.0</td>\n",
       "      <td>23.514339</td>\n",
       "      <td>53681.0</td>\n",
       "    </tr>\n",
       "    <tr>\n",
       "      <th>3</th>\n",
       "      <td>North Carolina</td>\n",
       "      <td>10488084</td>\n",
       "      <td>274602051.0</td>\n",
       "      <td>26.182289</td>\n",
       "      <td>50343.0</td>\n",
       "    </tr>\n",
       "    <tr>\n",
       "      <th>4</th>\n",
       "      <td>Ohio</td>\n",
       "      <td>11689100</td>\n",
       "      <td>265589817.0</td>\n",
       "      <td>22.721152</td>\n",
       "      <td>59768.0</td>\n",
       "    </tr>\n",
       "  </tbody>\n",
       "</table>\n",
       "</div>"
      ],
      "text/plain": [
       "            State  Population  Volume sales  Per Capita  \\\n",
       "0           Texas    28995881   699009614.0   24.107204   \n",
       "1      California    39512223   592482370.0   14.994914   \n",
       "2         Florida    21477737   505034788.0   23.514339   \n",
       "3  North Carolina    10488084   274602051.0   26.182289   \n",
       "4            Ohio    11689100   265589817.0   22.721152   \n",
       "\n",
       "   Median Household Income  \n",
       "0                  59295.0  \n",
       "1                  69759.0  \n",
       "2                  53681.0  \n",
       "3                  50343.0  \n",
       "4                  59768.0  "
      ]
     },
     "metadata": {},
     "output_type": "display_data"
    }
   ],
   "source": [
    "alcohol_income[\"Median Household Income\"] = alcohol_income[\"Median Household Income\"].astype(float)\n",
    "display(alcohol_income.head())"
   ]
  },
  {
   "cell_type": "code",
   "execution_count": 19,
   "id": "5f566c89",
   "metadata": {},
   "outputs": [
    {
     "name": "stdout",
     "output_type": "stream",
     "text": [
      "State                       object\n",
      "Population                   int64\n",
      "Volume sales               float64\n",
      "Per Capita                 float64\n",
      "Median Household Income    float64\n",
      "dtype: object\n"
     ]
    }
   ],
   "source": [
    "print(alcohol_income.dtypes)"
   ]
  },
  {
   "cell_type": "code",
   "execution_count": 20,
   "id": "f95c1c5e",
   "metadata": {
    "scrolled": true
   },
   "outputs": [
    {
     "data": {
      "image/png": "[encoded data removed]",
      "text/plain": [
       "<Figure size 640x480 with 1 Axes>"
      ]
     },
     "metadata": {},
     "output_type": "display_data"
    }
   ],
   "source": [
    "x_values = alcohol_income['Median Household Income']\n",
    "y_values = alcohol_income['Per Capita']\n",
    "plt.scatter(x_values,y_values)\n",
    "plt.title(\"Per Capita Volume sales by Median Household Income\")\n",
    "plt.xlabel('Median Household Income')\n",
    "plt.xticks(rotation = 90)\n",
    "plt.ylabel('Volume sales per capita')\n",
    "plt.show()"
   ]
  },
  {
   "cell_type": "code",
   "execution_count": 21,
   "id": "a5d28dc0",
   "metadata": {
    "scrolled": true
   },
   "outputs": [
    {
     "name": "stdout",
     "output_type": "stream",
     "text": [
      "The r-squared is: 0.17326075205457805\n"
     ]
    },
    {
     "data": {
      "image/png": "[encoded data removed]",
      "text/plain": [
       "<Figure size 640x480 with 1 Axes>"
      ]
     },
     "metadata": {},
     "output_type": "display_data"
    }
   ],
   "source": [
    "# Linear regression to show correlation between Per Capita Alcohol Sales and Median Household Income\n",
    "from scipy.stats import linregress\n",
    "x_values = alcohol_income['Median Household Income']\n",
    "y_values = alcohol_income['Per Capita']\n",
    "(slope, intercept, rvalue, pvalue, stderr) = linregress(x_values, y_values)\n",
    "regress_values = x_values * slope + intercept\n",
    "line_eq = \"y = \" + str(round(slope,2)) + \"x + \" + str(round(intercept,2))\n",
    "plt.scatter(x_values,y_values)\n",
    "plt.plot(x_values,regress_values,\"r-\")\n",
    "plt.annotate(line_eq,(5.8,0.8),fontsize=15,color=\"red\")\n",
    "plt.title(\"Per Capita Volume sales by Median Household Income\")\n",
    "plt.xlabel('Median Household Income')\n",
    "plt.xticks(rotation = 90)\n",
    "plt.ylabel('Volume sales per Capita')\n",
    "print(f\"The r-squared is: {rvalue**2}\")\n",
    "plt.show()"
   ]
  },
  {
   "cell_type": "markdown",
   "id": "b56dcf21",
   "metadata": {},
   "source": [
    "A linear regression was preformed to determine the correlation between Per Capita Alcohol sales and the Median Household Income per state. The regression showed a negative correlation between the two implying that higher median income does not mean higher per capita alcohol sales. Based on the results of this plot, we can predict that the states with higher median income will have a decrease in per capita alcohol sales.\n"
   ]
  },
  {
   "cell_type": "code",
   "execution_count": 22,
   "id": "aad900a5",
   "metadata": {
    "scrolled": true
   },
   "outputs": [
    {
     "data": {
      "image/png": "[encoded data removed]",
      "text/plain": [
       "<Figure size 640x480 with 1 Axes>"
      ]
     },
     "metadata": {},
     "output_type": "display_data"
    }
   ],
   "source": [
    "# box and whisker plot showing alcohol sales per capita\n",
    "per_cap = alcohol_income[\"Per Capita\"]\n",
    "fig1, ax1 = plt.subplots()\n",
    "ax1.set_title('Volume Sales Per Capita')\n",
    "ax1.set_ylabel(\"Alcohol Sales\")\n",
    "ax1.boxplot(per_cap)\n",
    "plt.show()"
   ]
  },
  {
   "cell_type": "markdown",
   "id": "c11216a6",
   "metadata": {},
   "source": [
    "This box and whisker plot illustrates the distribution of the alcohol volume sales per capita for 43 states in the US. The maximum number of per capita alcohol sales was found to be 37.211377, the minimum was found to be 0.206171, and median was found to be 22. "
   ]
  },
  {
   "cell_type": "code",
   "execution_count": 23,
   "id": "cca827b1",
   "metadata": {},
   "outputs": [
    {
     "name": "stdout",
     "output_type": "stream",
     "text": [
      "The lower quartile of Per capita alcohol sales is: 12.985178060088565\n",
      "The upper quartile of Per Capita alcohol sales is: 24.396063389852536\n",
      "The interquartile range of Per Capita Alcohol is: 11.410885329763971\n",
      "The median of Per Capita Alcohol sales is: 22.39551975192214\n",
      "Values below -4.131149934557392 could be outliers.\n",
      "Values above 41.51239138449849 could be outliers.\n"
     ]
    }
   ],
   "source": [
    "# Determine if there are any potential outliers in the per capita alcohol sales in US\n",
    "quartiles= alcohol_income['Per Capita'].quantile([.25,.5,.75])\n",
    "lowerq= quartiles[0.25]\n",
    "upperq= quartiles[0.75]\n",
    "iqr = upperq-lowerq\n",
    "iqr1_5 = iqr * 1.5\n",
    "print(f'The lower quartile of Per capita alcohol sales is: {lowerq}')\n",
    "print(f'The upper quartile of Per Capita alcohol sales is: {upperq}')\n",
    "print(f'The interquartile range of Per Capita Alcohol is: {iqr}')\n",
    "print(f'The median of Per Capita Alcohol sales is: {quartiles[0.5]}')\n",
    "\n",
    "lower_bound = lowerq - iqr1_5\n",
    "upper_bound = upperq + iqr1_5\n",
    "print(f'Values below {lower_bound} could be outliers.')\n",
    "print(f'Values above {upper_bound} could be outliers.')\n",
    "\n",
    "      "
   ]
  },
  {
   "cell_type": "code",
   "execution_count": null,
   "id": "fe4a9dfe",
   "metadata": {},
   "outputs": [],
   "source": []
  },
  {
   "cell_type": "code",
   "execution_count": null,
   "id": "e80fc10f",
   "metadata": {},
   "outputs": [],
   "source": []
  }
 ],
 "metadata": {
  "kernelspec": {
   "display_name": "PythonData",
   "language": "python",
   "name": "pythondata"
  },
  "language_info": {
   "codemirror_mode": {
    "name": "ipython",
    "version": 3
   },
   "file_extension": ".py",
   "mimetype": "text/x-python",
   "name": "python",
   "nbconvert_exporter": "python",
   "pygments_lexer": "ipython3",
   "version": "3.9.13"
  }
 },
 "nbformat": 4,
 "nbformat_minor": 5
}
